{
 "cells": [
  {
   "cell_type": "code",
   "execution_count": 9,
   "metadata": {},
   "outputs": [],
   "source": [
    "import pandas as pd\n",
    "import matplotlib.pyplot as plt\n",
    "plt.style.use('seaborn')"
   ]
  },
  {
   "cell_type": "code",
   "execution_count": 11,
   "metadata": {},
   "outputs": [],
   "source": [
    "df = pd.read_excel('AdventureWorks.xlsx')"
   ]
  },
  {
   "cell_type": "code",
   "execution_count": 14,
   "metadata": {},
   "outputs": [
    {
     "data": {
      "text/html": [
       "<div>\n",
       "<style scoped>\n",
       "    .dataframe tbody tr th:only-of-type {\n",
       "        vertical-align: middle;\n",
       "    }\n",
       "\n",
       "    .dataframe tbody tr th {\n",
       "        vertical-align: top;\n",
       "    }\n",
       "\n",
       "    .dataframe thead th {\n",
       "        text-align: right;\n",
       "    }\n",
       "</style>\n",
       "<table border=\"1\" class=\"dataframe\">\n",
       "  <thead>\n",
       "    <tr style=\"text-align: right;\">\n",
       "      <th></th>\n",
       "      <th>ID Loja</th>\n",
       "      <th>ID Produto</th>\n",
       "      <th>ID Cliente</th>\n",
       "      <th>Custo Unitário</th>\n",
       "      <th>Preço Unitário</th>\n",
       "      <th>Quantidade</th>\n",
       "      <th>Valor Desconto</th>\n",
       "      <th>Valor Venda</th>\n",
       "    </tr>\n",
       "  </thead>\n",
       "  <tbody>\n",
       "    <tr>\n",
       "      <th>count</th>\n",
       "      <td>904.000000</td>\n",
       "      <td>904.000000</td>\n",
       "      <td>904.000000</td>\n",
       "      <td>904.000000</td>\n",
       "      <td>904.000000</td>\n",
       "      <td>904.000000</td>\n",
       "      <td>904.000000</td>\n",
       "      <td>904.000000</td>\n",
       "    </tr>\n",
       "    <tr>\n",
       "      <th>mean</th>\n",
       "      <td>270.015487</td>\n",
       "      <td>1225.238938</td>\n",
       "      <td>19029.092920</td>\n",
       "      <td>272.006150</td>\n",
       "      <td>742.527965</td>\n",
       "      <td>62.950221</td>\n",
       "      <td>689.123294</td>\n",
       "      <td>6620.139538</td>\n",
       "    </tr>\n",
       "    <tr>\n",
       "      <th>std</th>\n",
       "      <td>50.955280</td>\n",
       "      <td>706.698742</td>\n",
       "      <td>96.427655</td>\n",
       "      <td>129.765051</td>\n",
       "      <td>368.589889</td>\n",
       "      <td>148.945964</td>\n",
       "      <td>822.363117</td>\n",
       "      <td>4319.407257</td>\n",
       "    </tr>\n",
       "    <tr>\n",
       "      <th>min</th>\n",
       "      <td>199.000000</td>\n",
       "      <td>366.000000</td>\n",
       "      <td>18815.000000</td>\n",
       "      <td>5.090000</td>\n",
       "      <td>9.990000</td>\n",
       "      <td>2.000000</td>\n",
       "      <td>0.000000</td>\n",
       "      <td>159.840000</td>\n",
       "    </tr>\n",
       "    <tr>\n",
       "      <th>25%</th>\n",
       "      <td>199.000000</td>\n",
       "      <td>384.000000</td>\n",
       "      <td>18964.750000</td>\n",
       "      <td>324.690000</td>\n",
       "      <td>758.000000</td>\n",
       "      <td>6.000000</td>\n",
       "      <td>0.000000</td>\n",
       "      <td>3920.000000</td>\n",
       "    </tr>\n",
       "    <tr>\n",
       "      <th>50%</th>\n",
       "      <td>306.000000</td>\n",
       "      <td>1202.000000</td>\n",
       "      <td>19060.000000</td>\n",
       "      <td>330.660000</td>\n",
       "      <td>980.000000</td>\n",
       "      <td>9.000000</td>\n",
       "      <td>461.166000</td>\n",
       "      <td>5798.700000</td>\n",
       "    </tr>\n",
       "    <tr>\n",
       "      <th>75%</th>\n",
       "      <td>307.000000</td>\n",
       "      <td>1226.000000</td>\n",
       "      <td>19107.000000</td>\n",
       "      <td>348.580000</td>\n",
       "      <td>998.000000</td>\n",
       "      <td>17.000000</td>\n",
       "      <td>1005.075000</td>\n",
       "      <td>7986.000000</td>\n",
       "    </tr>\n",
       "    <tr>\n",
       "      <th>max</th>\n",
       "      <td>307.000000</td>\n",
       "      <td>2497.000000</td>\n",
       "      <td>19145.000000</td>\n",
       "      <td>348.580000</td>\n",
       "      <td>999.000000</td>\n",
       "      <td>1560.000000</td>\n",
       "      <td>6272.000000</td>\n",
       "      <td>29400.000000</td>\n",
       "    </tr>\n",
       "  </tbody>\n",
       "</table>\n",
       "</div>"
      ],
      "text/plain": [
       "          ID Loja   ID Produto    ID Cliente  Custo Unitário  Preço Unitário  \\\n",
       "count  904.000000   904.000000    904.000000      904.000000      904.000000   \n",
       "mean   270.015487  1225.238938  19029.092920      272.006150      742.527965   \n",
       "std     50.955280   706.698742     96.427655      129.765051      368.589889   \n",
       "min    199.000000   366.000000  18815.000000        5.090000        9.990000   \n",
       "25%    199.000000   384.000000  18964.750000      324.690000      758.000000   \n",
       "50%    306.000000  1202.000000  19060.000000      330.660000      980.000000   \n",
       "75%    307.000000  1226.000000  19107.000000      348.580000      998.000000   \n",
       "max    307.000000  2497.000000  19145.000000      348.580000      999.000000   \n",
       "\n",
       "        Quantidade  Valor Desconto   Valor Venda  \n",
       "count   904.000000      904.000000    904.000000  \n",
       "mean     62.950221      689.123294   6620.139538  \n",
       "std     148.945964      822.363117   4319.407257  \n",
       "min       2.000000        0.000000    159.840000  \n",
       "25%       6.000000        0.000000   3920.000000  \n",
       "50%       9.000000      461.166000   5798.700000  \n",
       "75%      17.000000     1005.075000   7986.000000  \n",
       "max    1560.000000     6272.000000  29400.000000  "
      ]
     },
     "execution_count": 14,
     "metadata": {},
     "output_type": "execute_result"
    }
   ],
   "source": [
    "df.describe()"
   ]
  },
  {
   "cell_type": "markdown",
   "metadata": {},
   "source": [
    "# Qual a Receita Total?"
   ]
  },
  {
   "cell_type": "code",
   "execution_count": 23,
   "metadata": {},
   "outputs": [
    {
     "data": {
      "text/plain": [
       "5984606.1426"
      ]
     },
     "execution_count": 23,
     "metadata": {},
     "output_type": "execute_result"
    }
   ],
   "source": [
    "df['Valor Venda'].sum()"
   ]
  },
  {
   "cell_type": "markdown",
   "metadata": {},
   "source": [
    "# Qual o Custo Total"
   ]
  },
  {
   "cell_type": "code",
   "execution_count": 24,
   "metadata": {},
   "outputs": [
    {
     "data": {
      "text/plain": [
       "2486783.05"
      ]
     },
     "execution_count": 24,
     "metadata": {},
     "output_type": "execute_result"
    }
   ],
   "source": [
    "df['custo'] = df['Custo Unitário']*df['Quantidade']\n",
    "df['custo'].sum()"
   ]
  },
  {
   "cell_type": "markdown",
   "metadata": {},
   "source": [
    "# Lucro Total?"
   ]
  },
  {
   "cell_type": "code",
   "execution_count": 25,
   "metadata": {},
   "outputs": [
    {
     "data": {
      "text/plain": [
       "3497823.0926"
      ]
     },
     "execution_count": 25,
     "metadata": {},
     "output_type": "execute_result"
    }
   ],
   "source": [
    "df['lucro'] = df['Valor Venda'] - df['custo']\n",
    "df['lucro'].sum()"
   ]
  },
  {
   "cell_type": "code",
   "execution_count": 27,
   "metadata": {
    "scrolled": true
   },
   "outputs": [
    {
     "data": {
      "text/plain": [
       "Data Venda        datetime64[ns]\n",
       "Data Envio        datetime64[ns]\n",
       "ID Loja                    int64\n",
       "ID Produto                 int64\n",
       "ID Cliente                 int64\n",
       "No. Venda                 object\n",
       "Custo Unitário           float64\n",
       "Preço Unitário           float64\n",
       "Quantidade                 int64\n",
       "Valor Desconto           float64\n",
       "Valor Venda              float64\n",
       "Produto                   object\n",
       "Fabricante                object\n",
       "Marca                     object\n",
       "Classe                    object\n",
       "Cor                       object\n",
       "custo                    float64\n",
       "lucro                    float64\n",
       "dtype: object"
      ]
     },
     "execution_count": 27,
     "metadata": {},
     "output_type": "execute_result"
    }
   ],
   "source": [
    "df.dtypes"
   ]
  },
  {
   "cell_type": "markdown",
   "metadata": {},
   "source": [
    "# Tempo de envio?"
   ]
  },
  {
   "cell_type": "code",
   "execution_count": 29,
   "metadata": {},
   "outputs": [
    {
     "data": {
      "text/plain": [
       "0      20\n",
       "1       5\n",
       "2       6\n",
       "3       6\n",
       "4       7\n",
       "       ..\n",
       "899    13\n",
       "900    11\n",
       "901     4\n",
       "902     4\n",
       "903     4\n",
       "Name: Tempo_envio, Length: 904, dtype: int64"
      ]
     },
     "execution_count": 29,
     "metadata": {},
     "output_type": "execute_result"
    }
   ],
   "source": [
    "df['Tempo_envio'] = (df['Data Envio'] - df['Data Venda']).dt.days\n",
    "df['Tempo_envio']"
   ]
  },
  {
   "cell_type": "code",
   "execution_count": 30,
   "metadata": {},
   "outputs": [
    {
     "data": {
      "text/plain": [
       "8.543141592920353"
      ]
     },
     "execution_count": 30,
     "metadata": {},
     "output_type": "execute_result"
    }
   ],
   "source": [
    "df['Tempo_envio'].mean()"
   ]
  },
  {
   "cell_type": "markdown",
   "metadata": {},
   "source": [
    "# Lucro por Ano e Por Marca?"
   ]
  },
  {
   "cell_type": "code",
   "execution_count": 34,
   "metadata": {
    "scrolled": true
   },
   "outputs": [
    {
     "data": {
      "text/plain": [
       "Data Venda  Marca          \n",
       "2008        Adventure Works    3.066412e+05\n",
       "            Contoso            5.641600e+04\n",
       "            Fabrikam           1.557021e+06\n",
       "2009        Adventure Works    4.053951e+05\n",
       "            Contoso            1.382590e+05\n",
       "            Fabrikam           1.034091e+06\n",
       "Name: lucro, dtype: float64"
      ]
     },
     "execution_count": 34,
     "metadata": {},
     "output_type": "execute_result"
    }
   ],
   "source": [
    "df.groupby([df['Data Venda'].dt.year, 'Marca'])['lucro'].sum()"
   ]
  },
  {
   "cell_type": "markdown",
   "metadata": {},
   "source": [
    "# Total de produtos vendidos?"
   ]
  },
  {
   "cell_type": "code",
   "execution_count": 35,
   "metadata": {},
   "outputs": [
    {
     "data": {
      "text/plain": [
       "Produto\n",
       "Headphone Adapter for Contoso Phone E130 Silver    25232\n",
       "Headphone Adapter for Contoso Phone E130 White     25008\n",
       "Adventure Works Laptop15.4W M1548 Black             1089\n",
       "Fabrikam Trendsetter 2/3'' 17mm X100 Grey           1087\n",
       "Adventure Works Laptop15.4W M1548 Red               1047\n",
       "Fabrikam Trendsetter 2/3'' 17mm X100 Black           926\n",
       "Fabrikam Trendsetter 1/3'' 8.5mm X200 Black          884\n",
       "Fabrikam Trendsetter 1/3'' 8.5mm X200 Grey           845\n",
       "Fabrikam Trendsetter 1/3'' 8.5mm X200 White          789\n",
       "Name: Quantidade, dtype: int64"
      ]
     },
     "execution_count": 35,
     "metadata": {},
     "output_type": "execute_result"
    }
   ],
   "source": [
    "df.groupby('Produto')['Quantidade'].sum().sort_values(ascending=False)"
   ]
  },
  {
   "cell_type": "markdown",
   "metadata": {},
   "source": [
    "# Qual o total de produtos vendidos?"
   ]
  },
  {
   "cell_type": "code",
   "execution_count": 38,
   "metadata": {},
   "outputs": [
    {
     "data": {
      "image/png": "[encoded data removed]",
      "text/plain": [
       "<Figure size 576x396 with 1 Axes>"
      ]
     },
     "metadata": {},
     "output_type": "display_data"
    }
   ],
   "source": [
    "df.groupby('Produto')['Quantidade'].sum().sort_values(ascending=False).plot.barh(title='Total de Produtos Vendidos')\n",
    "plt.xlabel('Total')\n",
    "plt.ylabel('Produto');"
   ]
  },
  {
   "cell_type": "markdown",
   "metadata": {},
   "source": [
    "# Selecione apenas as vendas de 2009"
   ]
  },
  {
   "cell_type": "code",
   "execution_count": 40,
   "metadata": {},
   "outputs": [
    {
     "data": {
      "text/plain": [
       "Text(0, 0.5, 'Lucro')"
      ]
     },
     "execution_count": 40,
     "metadata": {},
     "output_type": "execute_result"
    },
    {
     "data": {
      "image/png": "[encoded data removed]",
      "text/plain": [
       "<Figure size 576x396 with 1 Axes>"
      ]
     },
     "metadata": {},
     "output_type": "display_data"
    }
   ],
   "source": [
    "df_2009 = df[df['Data Venda'].dt.year == 2009]\n",
    "df_2009.groupby(df_2009['Data Venda'].dt.month)['lucro'].sum().plot(title='Lucro x Mês')\n",
    "plt.xlabel('Mês')\n",
    "plt.ylabel('Lucro')\n"
   ]
  }
 ],
 "metadata": {
  "kernelspec": {
   "display_name": "Python 3",
   "language": "python",
   "name": "python3"
  },
  "language_info": {
   "codemirror_mode": {
    "name": "ipython",
    "version": 3
   },
   "file_extension": ".py",
   "mimetype": "text/x-python",
   "name": "python",
   "nbconvert_exporter": "python",
   "pygments_lexer": "ipython3",
   "version": "3.8.5"
  }
 },
 "nbformat": 4,
 "nbformat_minor": 4
}
